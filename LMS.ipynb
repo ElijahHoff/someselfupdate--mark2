{
 "cells": [
  {
   "cell_type": "code",
   "execution_count": 54,
   "metadata": {},
   "outputs": [],
   "source": [
    "import numpy as np\n",
    "import pandas as pd\n",
    "from matplotlib import pyplot as plt\n",
    "import seaborn as sns\n",
    "%matplotlib inline\n",
    "from sklearn.linear_model import LinearRegression, Lasso, LassoCV, \\\n",
    "                                Ridge, RidgeCV\n",
    "from sklearn.metrics import mean_squared_error\n",
    "from sklearn.preprocessing import StandardScaler\n",
    "from sklearn.ensemble import RandomForestRegressor"
   ]
  },
  {
   "cell_type": "code",
   "execution_count": 2,
   "metadata": {},
   "outputs": [],
   "source": [
    "data = pd.read_csv('../../data/bikes_rent.csv')"
   ]
  },
  {
   "cell_type": "code",
   "execution_count": 3,
   "metadata": {},
   "outputs": [],
   "source": [
    "linreg = LinearRegression()"
   ]
  },
  {
   "cell_type": "code",
   "execution_count": 4,
   "metadata": {},
   "outputs": [],
   "source": [
    "lasso = Lasso(random_state=17)\n",
    "ridge = Ridge(random_state=17)\n",
    "lasso_cv = LassoCV(random_state=17)\n",
    "ridge_cv = RidgeCV()"
   ]
  },
  {
   "cell_type": "code",
   "execution_count": 17,
   "metadata": {},
   "outputs": [],
   "source": [
    "X , y = data.drop('cnt',axis = 1).values , data['cnt'].values\n"
   ]
  },
  {
   "cell_type": "code",
   "execution_count": 19,
   "metadata": {},
   "outputs": [],
   "source": [
    "train_part_size = int(.7 * X.shape[0])\n",
    "X_train, X_valid = X[:train_part_size, :], X[train_part_size:, :]\n",
    "y_train, y_valid = y[:train_part_size], y[train_part_size:]"
   ]
  },
  {
   "cell_type": "code",
   "execution_count": 22,
   "metadata": {},
   "outputs": [],
   "source": [
    "scaler = StandardScaler()\n",
    "X_train_scaled= scaler.fit_transform(X_train)\n",
    "X_valid_scaled = scaler.transform(X_valid)"
   ]
  },
  {
   "cell_type": "code",
   "execution_count": 23,
   "metadata": {},
   "outputs": [
    {
     "data": {
      "text/plain": [
       "LinearRegression(copy_X=True, fit_intercept=True, n_jobs=None,\n",
       "         normalize=False)"
      ]
     },
     "execution_count": 23,
     "metadata": {},
     "output_type": "execute_result"
    }
   ],
   "source": [
    "linreg.fit(X_train_scaled,y_train)"
   ]
  },
  {
   "cell_type": "code",
   "execution_count": 26,
   "metadata": {},
   "outputs": [
    {
     "data": {
      "text/plain": [
       "1121.7952924380602"
      ]
     },
     "execution_count": 26,
     "metadata": {},
     "output_type": "execute_result"
    }
   ],
   "source": [
    "np.sqrt(mean_squared_error(y_valid, linreg.predict(X_valid_scaled)))"
   ]
  },
  {
   "cell_type": "code",
   "execution_count": 28,
   "metadata": {},
   "outputs": [
    {
     "data": {
      "image/png": "[encoded data removed]",
      "text/plain": [
       "<Figure size 432x288 with 1 Axes>"
      ]
     },
     "metadata": {
      "needs_background": "light"
     },
     "output_type": "display_data"
    }
   ],
   "source": [
    "data['cnt'].hist();"
   ]
  },
  {
   "cell_type": "code",
   "execution_count": 31,
   "metadata": {},
   "outputs": [
    {
     "data": {
      "text/html": [
       "<div>\n",
       "<style scoped>\n",
       "    .dataframe tbody tr th:only-of-type {\n",
       "        vertical-align: middle;\n",
       "    }\n",
       "\n",
       "    .dataframe tbody tr th {\n",
       "        vertical-align: top;\n",
       "    }\n",
       "\n",
       "    .dataframe thead th {\n",
       "        text-align: right;\n",
       "    }\n",
       "</style>\n",
       "<table border=\"1\" class=\"dataframe\">\n",
       "  <thead>\n",
       "    <tr style=\"text-align: right;\">\n",
       "      <th></th>\n",
       "      <th>coef</th>\n",
       "    </tr>\n",
       "  </thead>\n",
       "  <tbody>\n",
       "    <tr>\n",
       "      <th>windspeed(ms)</th>\n",
       "      <td>3.050057e+12</td>\n",
       "    </tr>\n",
       "    <tr>\n",
       "      <th>yr</th>\n",
       "      <td>9.540707e+02</td>\n",
       "    </tr>\n",
       "    <tr>\n",
       "      <th>atemp</th>\n",
       "      <td>8.911582e+02</td>\n",
       "    </tr>\n",
       "    <tr>\n",
       "      <th>season</th>\n",
       "      <td>4.048572e+02</td>\n",
       "    </tr>\n",
       "    <tr>\n",
       "      <th>weekday</th>\n",
       "      <td>1.037117e+02</td>\n",
       "    </tr>\n",
       "    <tr>\n",
       "      <th>temp</th>\n",
       "      <td>6.249914e+01</td>\n",
       "    </tr>\n",
       "    <tr>\n",
       "      <th>mnth</th>\n",
       "      <td>3.081078e+01</td>\n",
       "    </tr>\n",
       "    <tr>\n",
       "      <th>workingday</th>\n",
       "      <td>1.470262e+01</td>\n",
       "    </tr>\n",
       "    <tr>\n",
       "      <th>holiday</th>\n",
       "      <td>-6.757453e+01</td>\n",
       "    </tr>\n",
       "    <tr>\n",
       "      <th>hum</th>\n",
       "      <td>-1.589775e+02</td>\n",
       "    </tr>\n",
       "    <tr>\n",
       "      <th>weathersit</th>\n",
       "      <td>-2.938163e+02</td>\n",
       "    </tr>\n",
       "    <tr>\n",
       "      <th>windspeed(mph)</th>\n",
       "      <td>-3.050057e+12</td>\n",
       "    </tr>\n",
       "  </tbody>\n",
       "</table>\n",
       "</div>"
      ],
      "text/plain": [
       "                        coef\n",
       "windspeed(ms)   3.050057e+12\n",
       "yr              9.540707e+02\n",
       "atemp           8.911582e+02\n",
       "season          4.048572e+02\n",
       "weekday         1.037117e+02\n",
       "temp            6.249914e+01\n",
       "mnth            3.081078e+01\n",
       "workingday      1.470262e+01\n",
       "holiday        -6.757453e+01\n",
       "hum            -1.589775e+02\n",
       "weathersit     -2.938163e+02\n",
       "windspeed(mph) -3.050057e+12"
      ]
     },
     "execution_count": 31,
     "metadata": {},
     "output_type": "execute_result"
    }
   ],
   "source": [
    "pd.DataFrame(linreg.coef_,data.columns[:-1],columns=['coef']).sort_values(by='coef',ascending=False)"
   ]
  },
  {
   "cell_type": "code",
   "execution_count": 63,
   "metadata": {},
   "outputs": [],
   "source": [
    "def train_validate_report (model,X_train_scaled,y_train,X_valid,y_valid,feature_names,forest=False):\n",
    "    model.fit(X_train_scaled,y_train)\n",
    "    print(('MSE= %f' % np.sqrt(mean_squared_error(y_valid, model.predict(X_valid_scaled)))))\n",
    "    print('Model coefficients:') \n",
    "    coef = model.feature_importances_ if forest else model.coef_\n",
    "    coef_name = 'importance' if forest else 'Coef'\n",
    "    print(pd.DataFrame(coef,feature_names,columns=[coef_name]).sort_values(by=coef_name,ascending=False))\n",
    "    "
   ]
  },
  {
   "cell_type": "code",
   "execution_count": 64,
   "metadata": {},
   "outputs": [
    {
     "name": "stdout",
     "output_type": "stream",
     "text": [
      "MSE= 1120.721409\n",
      "Model coefficients:\n",
      "                      Coef\n",
      "yr              952.804560\n",
      "atemp           877.159813\n",
      "season          403.416439\n",
      "weekday         102.643044\n",
      "temp             75.953962\n",
      "mnth             29.857599\n",
      "workingday       14.173377\n",
      "windspeed(ms)    -0.000000\n",
      "holiday         -67.073435\n",
      "hum            -157.547615\n",
      "windspeed(mph) -187.341353\n",
      "weathersit     -293.177257\n"
     ]
    }
   ],
   "source": [
    "train_validate_report(lasso,X_train_scaled,y_train,X_valid_scaled,y_valid,feature_names=data.columns[:-1])"
   ]
  },
  {
   "cell_type": "code",
   "execution_count": 45,
   "metadata": {},
   "outputs": [
    {
     "name": "stderr",
     "output_type": "stream",
     "text": [
      "C:\\ProgramData\\Anaconda3\\lib\\site-packages\\sklearn\\model_selection\\_split.py:2053: FutureWarning: You should specify a value for 'cv' instead of relying on the default value. The default value will change from 3 to 5 in version 0.22.\n",
      "  warnings.warn(CV_WARNING, FutureWarning)\n"
     ]
    },
    {
     "name": "stdout",
     "output_type": "stream",
     "text": [
      "MSE= 1241.823261\n",
      "Model coefficients:\n",
      "                      coef\n",
      "atemp           886.374386\n",
      "yr              784.305733\n",
      "season          272.280614\n",
      "weekday          12.617944\n",
      "mnth              0.000000\n",
      "holiday          -0.000000\n",
      "workingday        0.000000\n",
      "temp              0.000000\n",
      "windspeed(ms)    -0.000000\n",
      "hum              -9.823886\n",
      "windspeed(mph)  -77.728632\n",
      "weathersit     -279.739913\n"
     ]
    }
   ],
   "source": [
    "train_validate_report(lasso_cv,X_train_scaled,y_train,X_valid_scaled,y_valid,feature_names=data.columns[:-1])"
   ]
  },
  {
   "cell_type": "code",
   "execution_count": 48,
   "metadata": {},
   "outputs": [
    {
     "name": "stdout",
     "output_type": "stream",
     "text": [
      "MSE= 1119.560520\n",
      "Model coefficients:\n",
      "                      coef\n",
      "yr              954.075878\n",
      "atemp           730.747340\n",
      "season          400.114172\n",
      "temp            221.406072\n",
      "weekday         103.198680\n",
      "mnth             34.687740\n",
      "workingday       15.334339\n",
      "holiday         -69.046689\n",
      "windspeed(ms)   -95.819798\n",
      "windspeed(mph)  -95.819798\n",
      "hum            -157.702520\n",
      "weathersit     -293.899386\n"
     ]
    }
   ],
   "source": [
    "train_validate_report(ridge,X_train_scaled,y_train,X_valid_scaled,y_valid,feature_names=data.columns[:-1])"
   ]
  },
  {
   "cell_type": "code",
   "execution_count": 49,
   "metadata": {},
   "outputs": [
    {
     "name": "stdout",
     "output_type": "stream",
     "text": [
      "MSE= 1118.903543\n",
      "Model coefficients:\n",
      "                      coef\n",
      "yr              934.401985\n",
      "atemp           534.482125\n",
      "temp            410.485392\n",
      "season          375.585733\n",
      "weekday         100.838401\n",
      "mnth             48.142392\n",
      "workingday       16.165284\n",
      "holiday         -70.019251\n",
      "windspeed(ms)   -97.770430\n",
      "windspeed(mph)  -97.770430\n",
      "hum            -155.174377\n",
      "weathersit     -291.035853\n"
     ]
    }
   ],
   "source": [
    "train_validate_report(ridge_cv,X_train_scaled,y_train,X_valid_scaled,y_valid,feature_names=data.columns[:-1])"
   ]
  },
  {
   "cell_type": "code",
   "execution_count": 70,
   "metadata": {},
   "outputs": [],
   "source": [
    "forest = RandomForestRegressor(random_state = 17, n_estimators = 500)"
   ]
  },
  {
   "cell_type": "code",
   "execution_count": 71,
   "metadata": {},
   "outputs": [
    {
     "name": "stdout",
     "output_type": "stream",
     "text": [
      "MSE= 1047.137676\n",
      "Model coefficients:\n",
      "                importance\n",
      "temp              0.298609\n",
      "atemp             0.243309\n",
      "yr                0.199314\n",
      "hum               0.070565\n",
      "season            0.062295\n",
      "weathersit        0.030535\n",
      "mnth              0.027786\n",
      "windspeed(mph)    0.020349\n",
      "weekday           0.019819\n",
      "windspeed(ms)     0.019613\n",
      "workingday        0.005191\n",
      "holiday           0.002615\n"
     ]
    }
   ],
   "source": [
    "train_validate_report(forest,X_train_scaled,y_train,X_valid_scaled,y_valid,feature_names=data.columns[:-1],forest = True)"
   ]
  },
  {
   "cell_type": "code",
   "execution_count": null,
   "metadata": {},
   "outputs": [],
   "source": []
  }
 ],
 "metadata": {
  "kernelspec": {
   "display_name": "Python 3",
   "language": "python",
   "name": "python3"
  },
  "language_info": {
   "codemirror_mode": {
    "name": "ipython",
    "version": 3
   },
   "file_extension": ".py",
   "mimetype": "text/x-python",
   "name": "python",
   "nbconvert_exporter": "python",
   "pygments_lexer": "ipython3",
   "version": "3.7.1"
  }
 },
 "nbformat": 4,
 "nbformat_minor": 2
}
